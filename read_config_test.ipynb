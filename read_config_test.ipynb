{
 "cells": [
  {
   "cell_type": "code",
   "execution_count": 4,
   "metadata": {},
   "outputs": [
    {
     "data": {
      "text/plain": [
       "'5ffbfccf710ea7340ada71b68059f959'"
      ]
     },
     "execution_count": 4,
     "metadata": {},
     "output_type": "execute_result"
    }
   ],
   "source": [
    "import configparser\n",
    "\n",
    "config = configparser.ConfigParser()\n",
    "config.read('config.ini')\n",
    "\n",
    "config.get('line-bot','channel_access_token')\n",
    "config.get('line-bot','channel_secret')"
   ]
  },
  {
   "cell_type": "code",
   "execution_count": 12,
   "metadata": {},
   "outputs": [
    {
     "name": "stdout",
     "output_type": "stream",
     "text": [
      "No Not Yet\n"
     ]
    }
   ],
   "source": [
    "import requests\n",
    "\n",
    "request_page1 = requests.get(\"https://store.igogosport.com/collections/refurbish?page=1\")\n",
    "request_page2 = requests.get(\"https://store.igogosport.com/collections/refurbish?page=2\")\n",
    "\n",
    "if 'Marley Liberate Air' in request_page1.text or 'Marley Liberate Air' in request_page2.text:\n",
    "    print('Marley Liberate Air put on the shelf')\n",
    "else:\n",
    "    print('No Not Yet')"
   ]
  }
 ],
 "metadata": {
  "interpreter": {
   "hash": "0929ad9b153f15ca422f8e2535fe01808b840f9cfda5243cba2e9975570cf03c"
  },
  "kernelspec": {
   "display_name": "Python 3.9.1 64-bit",
   "name": "python3"
  },
  "language_info": {
   "codemirror_mode": {
    "name": "ipython",
    "version": 3
   },
   "file_extension": ".py",
   "mimetype": "text/x-python",
   "name": "python",
   "nbconvert_exporter": "python",
   "pygments_lexer": "ipython3",
   "version": "3.9.1"
  },
  "orig_nbformat": 4
 },
 "nbformat": 4,
 "nbformat_minor": 2
}
